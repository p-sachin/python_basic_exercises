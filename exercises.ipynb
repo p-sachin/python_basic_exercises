{
 "cells": [
  {
   "cell_type": "code",
   "execution_count": 26,
   "metadata": {},
   "outputs": [
    {
     "name": "stdout",
     "output_type": "stream",
     "text": [
      "\n",
      "1 \n",
      "2 2 \n",
      "3 3 3 \n",
      "4 4 4 4 \n",
      "5 5 5 5 5 \n"
     ]
    }
   ],
   "source": [
    "# Python program to print the following simple number pattern using a for loop.\n",
    "# 1  \n",
    "# 2 2  \n",
    "# 3 3 3  \n",
    "# 4 4 4 4  \n",
    "# 5 5 5 5 5\n",
    "\n",
    "# Outer loop for number of rows \n",
    "for i in range(6):\n",
    "    # Inner loops for displaying the values\n",
    "    for j in range(i):\n",
    "        print(i, end=' ')\n",
    "    # New line after each row\n",
    "    print('')"
   ]
  },
  {
   "cell_type": "code",
   "execution_count": 34,
   "metadata": {},
   "outputs": [
    {
     "name": "stdout",
     "output_type": "stream",
     "text": [
      "1  \n",
      "1 2  \n",
      "1 2 3  \n",
      "1 2 3 4  \n",
      "1 2 3 4 5  \n"
     ]
    }
   ],
   "source": [
    "# 1 \n",
    "# 1 2 \n",
    "# 1 2 3 \n",
    "# 1 2 3 4 \n",
    "# 1 2 3 4 5\n",
    "\n",
    "for i in range(5):\n",
    "    for j in range(i+1):\n",
    "        print(j+1, end=' ')\n",
    "    print(' ')"
   ]
  },
  {
   "cell_type": "code",
   "execution_count": 38,
   "metadata": {},
   "outputs": [
    {
     "name": "stdout",
     "output_type": "stream",
     "text": [
      "1 1 1 1 1 \n",
      "2 2 2 2 \n",
      "3 3 3 \n",
      "4 4 \n",
      "5 \n"
     ]
    }
   ],
   "source": [
    "# 1 1 1 1 1 \n",
    "# 2 2 2 2 \n",
    "# 3 3 3 \n",
    "# 4 4 \n",
    "# 5\n",
    "\n",
    "b=0\n",
    "for i in range(5, 0, -1):\n",
    "    b += 1\n",
    "    for j in range(1, i+1):\n",
    "        print(b, end=' ')\n",
    "    print('')"
   ]
  },
  {
   "cell_type": "code",
   "execution_count": 40,
   "metadata": {},
   "outputs": [
    {
     "name": "stdout",
     "output_type": "stream",
     "text": [
      "5 5 5 5 5  \n",
      "5 5 5 5  \n",
      "5 5 5  \n",
      "5 5  \n",
      "5  \n"
     ]
    }
   ],
   "source": [
    "# 5 5 5 5 5 \n",
    "# 5 5 5 5 \n",
    "# 5 5 5 \n",
    "# 5 5 \n",
    "# 5\n",
    "b = 5\n",
    "for i in range(5, 0, -1):\n",
    "    for j in range(0, i):\n",
    "        print(b, end=' ')\n",
    "    print(' ')\n"
   ]
  },
  {
   "cell_type": "code",
   "execution_count": 47,
   "metadata": {},
   "outputs": [
    {
     "name": "stdout",
     "output_type": "stream",
     "text": [
      "0 1 2 3 4 5 \n",
      "0 1 2 3 4 \n",
      "0 1 2 3 \n",
      "0 1 2 \n",
      "0 1 \n"
     ]
    }
   ],
   "source": [
    "# 0 1 2 3 4 5 \n",
    "# 0 1 2 3 4 \n",
    "# 0 1 2 3 \n",
    "# 0 1 2 \n",
    "# 0 1\n",
    "\n",
    "for i in range(6, 1, -1):\n",
    "    for j in range(0, i):\n",
    "        print(j, end=' ')\n",
    "    print('')"
   ]
  },
  {
   "cell_type": "code",
   "execution_count": 64,
   "metadata": {},
   "outputs": [],
   "source": [
    "# Use of Decorators\n",
    "\n",
    "def addStatement(func):\n",
    "    def inner(a, b):\n",
    "        print(f'This is the sum: {a+b}')\n",
    "        return func(a,b)\n",
    "    return inner\n",
    "\n",
    "@addStatement\n",
    "def addValue(a,b):\n",
    "    pass"
   ]
  },
  {
   "cell_type": "code",
   "execution_count": 65,
   "metadata": {},
   "outputs": [
    {
     "name": "stdout",
     "output_type": "stream",
     "text": [
      "This is the sum: 12\n"
     ]
    }
   ],
   "source": [
    "addValue(5,7)"
   ]
  },
  {
   "cell_type": "code",
   "execution_count": null,
   "metadata": {},
   "outputs": [],
   "source": []
  }
 ],
 "metadata": {
  "kernelspec": {
   "display_name": "Python 3",
   "language": "python",
   "name": "python3"
  },
  "language_info": {
   "codemirror_mode": {
    "name": "ipython",
    "version": 3
   },
   "file_extension": ".py",
   "mimetype": "text/x-python",
   "name": "python",
   "nbconvert_exporter": "python",
   "pygments_lexer": "ipython3",
   "version": "3.8.4"
  },
  "orig_nbformat": 4,
  "vscode": {
   "interpreter": {
    "hash": "9650cb4e16cdd4a8e8e2d128bf38d875813998db22a3c986335f89e0cb4d7bb2"
   }
  }
 },
 "nbformat": 4,
 "nbformat_minor": 2
}
